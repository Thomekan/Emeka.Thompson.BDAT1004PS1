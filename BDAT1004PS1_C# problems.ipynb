{
 "cells": [
  {
   "cell_type": "markdown",
   "metadata": {
    "slideshow": {
     "slide_type": "slide"
    }
   },
   "source": [
    "### Question 1 C#\n",
    "What data type is each of the following?"
   ]
  },
  {
   "cell_type": "markdown",
   "metadata": {},
   "source": [
    "|Data|Data type|\n",
    "|----|----|\n",
    "|5|integar|\n",
    "|5.0|float|\n",
    "|5 > 1|Boolean|\n",
    "|'5'|char|\n",
    "|5 * 2|integar|\n",
    "|'5' * 2| char|\n",
    "|'5' + '2'|char|\n",
    "|5 / 2|decimal|\n",
    "|5 // 2|float|\n",
    "|[5, 2, 1]|list|\n",
    "|5 in [1, 4, 6]|null|\n",
    "|Pi (the number)|decimal|"
   ]
  },
  {
   "cell_type": "markdown",
   "metadata": {},
   "source": [
    "### Question 2 C#"
   ]
  },
  {
   "cell_type": "code",
   "execution_count": 138,
   "metadata": {},
   "outputs": [
    {
     "name": "stdout",
     "output_type": "stream",
     "text": [
      "a. The word Supercalifragilisticexpialidocious has 34 letters.\n",
      "b. The word Supercalifragilisticexpialidocious contains 'ice' as a substring\n",
      "c. There isn't a longest word, Supercalifragilisticexpialidocious and Bababadalgharaghtakamminarronnkonn are the same length.\n",
      "d. Bartok is fist and Buxtehude is last.\n",
      "     Bartok\n",
      "     Bellini\n",
      "     Berlioz\n",
      "     Bernstein\n",
      "     Borodin\n",
      "     Brian\n",
      "     Buxtehude\n"
     ]
    }
   ],
   "source": [
    "string word1 = (\"Supercalifragilisticexpialidocious\");\n",
    "string word2 = (\"Honorificabilitudinitatibus\");\n",
    "string word3 = (\"Bababadalgharaghtakamminarronnkonn\");\n",
    "\n",
    "//Question 2a\n",
    "    Console.WriteLine ($\"a. The word {word1} has {word1.Length} letters.\");\n",
    "\n",
    "//Question 2b\n",
    "    if (word1.Contains(\"ice\"))\n",
    "    {\n",
    "        Console.WriteLine ($\"b. The word {word1} contains 'ice' as a substring\");\n",
    "    }\n",
    "\n",
    "//Question 2c\n",
    "    if (word1.Length>word2.Length)\n",
    "    {\n",
    "        if (word1.Length>word3.Length)\n",
    "        {\n",
    "            Console.WriteLine(\"c. {0} is the longest word\", word1);\n",
    "        }\n",
    "        else\n",
    "        {\n",
    "            Console.WriteLine($\"c. There isn't a longest word, {word1} and {word3} are the same length.\");\n",
    "        }\n",
    "    }\n",
    "    else\n",
    "    {\n",
    "        if (word2.Length>word3.Length)\n",
    "        {\n",
    "            Console.WriteLine(\"c. {0} is the longest word\", word2);\n",
    "        }\n",
    "        else\n",
    "        {\n",
    "            Console.WriteLine($\"c. There isn't a longest word, {word2} and {word3} are the same length.\");\n",
    "        }\n",
    "    }\n",
    "\n",
    "//Question 2d\n",
    "    SortedDictionary<string, string> names = new SortedDictionary<string, string>(); \n",
    "       names.Add(\"Berlioz\", \"1\"); \n",
    "       names.Add(\"Borodin\", \"2\");\n",
    "       names.Add(\"Brian\", \"3\");\n",
    "       names.Add(\"Bartok\", \"4\");\n",
    "       names.Add(\"Bellini\", \"5\");\n",
    "       names.Add(\"Buxtehude\", \"6\");\n",
    "       names.Add(\"Bernstein\", \"7\");\n",
    "\n",
    "       Console.WriteLine(\"d. Bartok is fist and Buxtehude is last.\");\n",
    "       foreach (KeyValuePair<string, string> kv in names)\n",
    "       {\n",
    "              Console.WriteLine($\"     {kv.Key}\");\n",
    "       }\n"
   ]
  },
  {
   "cell_type": "markdown",
   "metadata": {},
   "source": [
    "### Question 3 C#\n"
   ]
  },
  {
   "cell_type": "code",
   "execution_count": 2,
   "metadata": {},
   "outputs": [],
   "source": [
    "//A program to calculate the area of a triangle by Heron's formula\n",
    "\n",
    "class Triangle\n",
    "    {\n",
    "        public double a;\n",
    "        public double b;\n",
    "        public double c;\n",
    "        public double s;\n",
    "                            \n",
    "\n",
    "        public double Area()\n",
    "        {\n",
    "            return Math.Sqrt(s * (s - a) * (s - b) * (s - c));\n",
    "        }\n",
    "        public void Display()\n",
    "        {\n",
    "            Console.WriteLine(\"height: {0}\", a);\n",
    "            Console.WriteLine(\"base: {0}\", b);\n",
    "            Console.WriteLine(\"Hyp: {0}\", b);\n",
    "            Console.WriteLine(\">>> triangleArea(2,2,2): {0}\", Area());\n",
    "        }\n",
    "    }\n",
    "    class ExecuteTriangle\n",
    "    {\n",
    "        static void Main(string[] args)\n",
    "        {\n",
    "            Triangle t = new Triangle();\n",
    "\n",
    "            t.a = 2;\n",
    "            t.b = 2;\n",
    "            t.c = 2;\n",
    "            t.s = (t.a + t.b + t.c) / 2;\n",
    "            t.Display();\n",
    "            Console.ReadLine();\n",
    "        }\n",
    "    }"
   ]
  },
  {
   "cell_type": "code",
   "execution_count": 6,
   "metadata": {},
   "outputs": [
    {
     "name": "stdout",
     "output_type": "stream",
     "text": [
      "height: 2\n",
      "base: 2\n",
      "Hyp: 2\n",
      "triangleArea(2,2,2): 1.7320508075688772\n"
     ]
    }
   ],
   "source": [
    "            Triangle t = new Triangle();\n",
    "\n",
    "            t.a = 2;\n",
    "            t.b = 2;\n",
    "            t.c = 2;\n",
    "            t.s = (t.a + t.b + t.c) / 2;\n",
    "            t.Display();\n",
    "            Console.ReadLine();"
   ]
  },
  {
   "cell_type": "markdown",
   "metadata": {},
   "source": [
    "### Question 4 C#"
   ]
  },
  {
   "cell_type": "code",
   "execution_count": 11,
   "metadata": {},
   "outputs": [
    {
     "name": "stdout",
     "output_type": "stream",
     "text": [
      "The Even elements are: \n",
      "42 56 32 \n",
      "The Odd elements are: \n",
      "25 47 \n"
     ]
    }
   ],
   "source": [
    "//A program to separate odd and even integers in separate arrays.\n",
    "\n",
    "        int[] element = new int[5];\n",
    "        element[0] = 25;\n",
    "        element[1] = 47;\n",
    "        element[2] = 42;\n",
    "        element[3] = 56;\n",
    "        element[4] = 32;\n",
    "        Console.WriteLine(\"The Even elements are: \");\n",
    "        for (int i = 0; i < element.Length; i++)\n",
    "        {\n",
    "            if(element[i] % 2 == 0)\n",
    "                Console.Write(element[i] + \" \");\n",
    "        }\n",
    "        Console.WriteLine();\n",
    "\n",
    "        Console.WriteLine(\"The Odd elements are: \");\n",
    "        for (int i = 0; i < element.Length; i++)\n",
    "        {\n",
    "            if (element[i] % 2 != 0)\n",
    "                Console.Write(element[i] + \" \");\n",
    "        }\n",
    "        Console.WriteLine();"
   ]
  },
  {
   "cell_type": "markdown",
   "metadata": {},
   "source": [
    "### Question 5 C#"
   ]
  },
  {
   "cell_type": "code",
   "execution_count": 13,
   "metadata": {},
   "outputs": [],
   "source": [
    "class Rectanglepoints\n",
    "    {\n",
    "\n",
    "        // function to find if point (x,y) lies in a given rectangle. \n",
    "        static bool FindPoint(int x1, int y1, int x2, int y2, int x, int y)\n",
    "        {\n",
    "            if (x > x1 && x < x2 && y > y1 && y < y2)\n",
    "                return true;\n",
    "            else\n",
    "                return false;\n",
    "        }\n",
    "        public static void Main()\n",
    "        {\n",
    "\n",
    "            // values of lower left and upper right points \n",
    "            int x1 = 0, y1 = 0,\n",
    "                x2 = 2, y2 = 3;\n",
    "\n",
    "            // points to test \n",
    "            int x = 1, y = 1;\n",
    "\n",
    "            // function call \n",
    "            if (FindPoint(x1, y1, x2, y2, x, y))\n",
    "                Console.Write(\"inside\" + (x, y, x1, y1, x2, y2));\n",
    "            else\n",
    "                Console.Write(\"inside\" + (x, y, x1, y1, x2, y2));\n",
    "            Console.WriteLine((FindPoint(x1, y1, x2, y2, x, y)));\n",
    "        }   \n",
    "    }"
   ]
  },
  {
   "cell_type": "code",
   "execution_count": 18,
   "metadata": {},
   "outputs": [],
   "source": [
    "\n",
    "// function to find if point (x,y) lies in a given rectangle. \n",
    "        \n",
    "        static bool FindPoint(int x1, int y1, int x2, int y2, int x, int y)\n",
    "        {\n",
    "            if (x > x1 && x < x2 && y > y1 && y < y2)\n",
    "                return true;\n",
    "            else\n",
    "                return false;\n",
    "        }\n",
    "        public static void Main()\n",
    "        {\n",
    "\n",
    "            // values of lower left and upper right points \n",
    "            int x1 = 0, y1 = 0,\n",
    "                x2 = 2, y2 = 3;\n",
    "\n",
    "            // points to test \n",
    "            int x = 1, y = 1;\n",
    "\n",
    "            // function call \n",
    "            if (FindPoint(x1, y1, x2, y2, x, y))\n",
    "                Console.WriteLine(\"inside\" + (x, y, x1, y1, x2, y2));\n",
    "            else\n",
    "                Console.WriteLine(\"inside\" + (x, y, x1, y1, x2, y2));\n",
    "            Console.WriteLine((FindPoint(x1, y1, x2, y2, x, y)));\n",
    "        }   "
   ]
  },
  {
   "cell_type": "code",
   "execution_count": 21,
   "metadata": {},
   "outputs": [
    {
     "name": "stdout",
     "output_type": "stream",
     "text": [
      "inside(1, 1, 0, 0, 2, 3)\n",
      "True\n"
     ]
    }
   ],
   "source": [
    "// values of lower left and upper right points \n",
    "            int x1 = 0, y1 = 0,\n",
    "                x2 = 2, y2 = 3;\n",
    "\n",
    "            // points to test \n",
    "            int x = 1, y = 1;\n",
    "\n",
    "            // function call \n",
    "            if (FindPoint(x1, y1, x2, y2, x, y))\n",
    "                Console.WriteLine(\"inside\" + (x, y, x1, y1, x2, y2));\n",
    "            else\n",
    "                Console.WriteLine(\"inside\" + (x, y, x1, y1, x2, y2));\n",
    "            Console.WriteLine((FindPoint(x1, y1, x2, y2, x, y)));"
   ]
  },
  {
   "cell_type": "code",
   "execution_count": 25,
   "metadata": {},
   "outputs": [],
   "source": [
    "\n",
    "        \n",
    "        public static object a = 3;\n",
    "        \n",
    "        public static object b = 3.0;\n",
    "        \n",
    "        public static object c = \"three\";\n",
    "        \n",
    "        public static object d = new List<object> {\n",
    "            1,\n",
    "            2,\n",
    "            3};\n",
    "       "
   ]
  },
  {
   "cell_type": "code",
   "execution_count": null,
   "metadata": {},
   "outputs": [],
   "source": []
  }
 ],
 "metadata": {
  "kernelspec": {
   "display_name": ".NET (C#)",
   "language": "C#",
   "name": ".net-csharp"
  },
  "language_info": {
   "file_extension": ".cs",
   "mimetype": "text/x-csharp",
   "name": "C#",
   "pygments_lexer": "csharp",
   "version": "8.0"
  }
 },
 "nbformat": 4,
 "nbformat_minor": 4
}
