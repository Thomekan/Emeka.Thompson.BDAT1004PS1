{
 "cells": [
  {
   "cell_type": "markdown",
   "metadata": {},
   "source": [
    "### Question 6"
   ]
  },
  {
   "cell_type": "code",
   "execution_count": 7,
   "metadata": {},
   "outputs": [
    {
     "name": "stdout",
     "output_type": "stream",
     "text": [
      "appyhay\n",
      "enterway\n"
     ]
    }
   ],
   "source": [
    "#A function, pig(), that converts words to pig-latin\n",
    "\n",
    "pl = 'ay'\n",
    "def pig(word):\n",
    "        word = word.lower()\n",
    "        first = word[0]\n",
    "        if first in ('aeiou'):\n",
    "            pig_latin = word + 'w' + pl\n",
    "            print (pig_latin)\n",
    "        else:\n",
    "            pig_latin = word[1:] + first + pl\n",
    "            print (pig_latin)\n",
    "pig(\"happy\")\n",
    "pig(\"Enter\")"
   ]
  },
  {
   "cell_type": "markdown",
   "metadata": {},
   "source": [
    "### Question 7"
   ]
  },
  {
   "cell_type": "code",
   "execution_count": 80,
   "metadata": {},
   "outputs": [
    {
     "name": "stdout",
     "output_type": "stream",
     "text": [
      "There are 15 patients of blood type A.\n",
      "There is 1 patient of blood type B.\n",
      "There are 13 patients of blood type AB.\n",
      "There are 15 patients of blood type O.\n",
      "There are 0 patients of blood type OO.\n"
     ]
    }
   ],
   "source": [
    "#Reports the number of patient there are in each bloodtype\n",
    "\n",
    "def bldcount(name):\n",
    "    \n",
    "\n",
    "    infile = open(name)\n",
    "    content = infile.read()\n",
    "    infile.close()\n",
    "    wordList = content.split()\n",
    "    \n",
    "    print(\"There are \" + str(wordList.count(\"A\")) + \" patients of blood type A.\")\n",
    "    print(\"There is \" + str(wordList.count(\"B\")) + \" patient of blood type B.\")\n",
    "    print(\"There are \" + str(wordList.count(\"AB\")) + \" patients of blood type AB.\")\n",
    "    print(\"There are \" + str(wordList.count(\"O\")) + \" patients of blood type O.\")\n",
    "    print(\"There are \" + str(wordList.count(\"OO\")) + \" patients of blood type OO.\")\n",
    "   \n",
    "bldcount('bloodtype1.txt')"
   ]
  },
  {
   "cell_type": "markdown",
   "metadata": {},
   "source": [
    "### Question 8 Python"
   ]
  },
  {
   "cell_type": "code",
   "execution_count": 85,
   "metadata": {},
   "outputs": [
    {
     "name": "stdout",
     "output_type": "stream",
     "text": [
      "USD 122.96544\n",
      "USD 1.241401\n"
     ]
    }
   ],
   "source": [
    "#Currency calculator\n",
    "\n",
    "def curconv(curr_code, amount):\n",
    "    infile = open('currencies.txt', 'r')\n",
    "    lineList = infile.readlines()\n",
    "    for line in lineList:\n",
    "        code = line.split()\n",
    "        value = float(code[1])\n",
    "        if curr_code in line:\n",
    "            print('USD', amount*value)\n",
    "            \n",
    "\n",
    "curconv('EUR', 100)\n",
    "curconv('JPY', 100)"
   ]
  },
  {
   "cell_type": "markdown",
   "metadata": {},
   "source": [
    "### Question 9 "
   ]
  },
  {
   "cell_type": "markdown",
   "metadata": {},
   "source": [
    "NameError\n",
    "IndexError\n",
    "IndexError\n",
    "NameError\n",
    "NameError\n",
    "FileNotFoundError"
   ]
  },
  {
   "cell_type": "markdown",
   "metadata": {},
   "source": [
    "### Question 10"
   ]
  },
  {
   "cell_type": "code",
   "execution_count": 97,
   "metadata": {},
   "outputs": [
    {
     "name": "stdout",
     "output_type": "stream",
     "text": [
      "1, 1, 1, 3, 5, 1, 1, 2, 1, 0, 1, 0, 1, 2, 4, 0, 1, 2, 0, 2, 1, 0, 1, 1, 0, 0, "
     ]
    }
   ],
   "source": [
    "#Returns a list of integars\n",
    "def frequencies (s):\n",
    "    \n",
    "    letters = s[0:]\n",
    "    for letters in ('abcdefghijklmnopqrstuvwxyz'):\n",
    "            encryption = s.count(letters)\n",
    "           \n",
    "            print(encryption, end=\", \")\n",
    "\n",
    "frequencies('The quick red fox got bored and went home.')"
   ]
  },
  {
   "cell_type": "code",
   "execution_count": 95,
   "metadata": {},
   "outputs": [
    {
     "name": "stdout",
     "output_type": "stream",
     "text": [
      "1, 0, 0, 0, 1, 0, 0, 0, 0, 0, 0, 1, 0, 0, 0, 2, 0, 0, 0, 0, 0, 0, 0, 0, 0, 0, "
     ]
    }
   ],
   "source": [
    "frequencies('apple')"
   ]
  }
 ],
 "metadata": {
  "kernelspec": {
   "display_name": "Python 3",
   "language": "python",
   "name": "python3"
  },
  "language_info": {
   "codemirror_mode": {
    "name": "ipython",
    "version": 3
   },
   "file_extension": ".py",
   "mimetype": "text/x-python",
   "name": "python",
   "nbconvert_exporter": "python",
   "pygments_lexer": "ipython3",
   "version": "3.8.5"
  }
 },
 "nbformat": 4,
 "nbformat_minor": 4
}
